{
 "cells": [
  {
   "cell_type": "markdown",
   "metadata": {},
   "source": [
    "## Import relevant packages"
   ]
  },
  {
   "cell_type": "code",
   "execution_count": 1,
   "metadata": {},
   "outputs": [],
   "source": [
    "import pandas as pd\n",
    "import numpy as np\n",
    "#\n",
    "from nltk.corpus import stopwords \n",
    "import nltk.tokenize as nltk\n",
    "from sklearn.model_selection import train_test_split\n",
    "#\n",
    "import pickle\n",
    "import xgboost\n",
    "import re"
   ]
  },
  {
   "cell_type": "markdown",
   "metadata": {},
   "source": [
    "## Correct messy encoding"
   ]
  },
  {
   "cell_type": "markdown",
   "metadata": {},
   "source": [
    "Run if data contains weird symbols for punctuation (i.e. â€™ instead of ' )"
   ]
  },
  {
   "cell_type": "code",
   "execution_count": 3,
   "metadata": {},
   "outputs": [],
   "source": [
    "import csv\n",
    "import ftfy\n",
    "\n",
    "\n",
    "# input file\n",
    "csvfile = open('C:\\\\Users\\\\Jasmine.Ooi\\\\Downloads\\\\single_issue3.csv', \"r\", encoding = \"UTF8\")\n",
    "reader = csv.DictReader(csvfile)\n",
    "\n",
    "# output stream\n",
    "outfile = open('C:\\\\Users\\\\Jasmine.Ooi\\\\Desktop\\\\single_issue_4.csv', \"w\", encoding = \"utf-8\") # Windows doesn't like utf8\n",
    "writer = csv.DictWriter(outfile, fieldnames = reader.fieldnames, lineterminator = \"\\n\")\n",
    "\n",
    "# clean values\n",
    "writer.writeheader()\n",
    "for row in reader:\n",
    "    for col in row:\n",
    "        row[col] = ftfy.fix_text(row[col])\n",
    "    writer.writerow(row)\n",
    "\n",
    "# close files\n",
    "csvfile.close()\n",
    "outfile.close()\n",
    "\n",
    "\n",
    "    \n"
   ]
  },
  {
   "cell_type": "markdown",
   "metadata": {},
   "source": [
    "## Load data in"
   ]
  },
  {
   "cell_type": "code",
   "execution_count": 150,
   "metadata": {},
   "outputs": [
    {
     "data": {
      "text/html": [
       "<div>\n",
       "<style scoped>\n",
       "    .dataframe tbody tr th:only-of-type {\n",
       "        vertical-align: middle;\n",
       "    }\n",
       "\n",
       "    .dataframe tbody tr th {\n",
       "        vertical-align: top;\n",
       "    }\n",
       "\n",
       "    .dataframe thead th {\n",
       "        text-align: right;\n",
       "    }\n",
       "</style>\n",
       "<table border=\"1\" class=\"dataframe\">\n",
       "  <thead>\n",
       "    <tr style=\"text-align: right;\">\n",
       "      <th></th>\n",
       "      <th>tracking_number</th>\n",
       "      <th>nps_rating</th>\n",
       "      <th>feedback</th>\n",
       "      <th>issue_1</th>\n",
       "      <th>country</th>\n",
       "      <th>issue_1_new</th>\n",
       "    </tr>\n",
       "  </thead>\n",
       "  <tbody>\n",
       "    <tr>\n",
       "      <th>0</th>\n",
       "      <td>AFA146167A</td>\n",
       "      <td>5</td>\n",
       "      <td>parcel in good condition.ninja could have been...</td>\n",
       "      <td>Driver - Rude/Poor attitude</td>\n",
       "      <td>sg</td>\n",
       "      <td>D4</td>\n",
       "    </tr>\n",
       "    <tr>\n",
       "      <th>1</th>\n",
       "      <td>AFA147716A</td>\n",
       "      <td>6</td>\n",
       "      <td>not very approachable</td>\n",
       "      <td>Driver - Rude/Poor attitude</td>\n",
       "      <td>sg</td>\n",
       "      <td>D4</td>\n",
       "    </tr>\n",
       "    <tr>\n",
       "      <th>2</th>\n",
       "      <td>CK-SG1806300877</td>\n",
       "      <td>5</td>\n",
       "      <td>ninja came up to pte condo unit without inform...</td>\n",
       "      <td>Driver - No call before OFD</td>\n",
       "      <td>sg</td>\n",
       "      <td>D5</td>\n",
       "    </tr>\n",
       "    <tr>\n",
       "      <th>3</th>\n",
       "      <td>CK-SG1807010255</td>\n",
       "      <td>1</td>\n",
       "      <td>the delivery man was too bad in communication,...</td>\n",
       "      <td>Driver - Rude/Poor attitude</td>\n",
       "      <td>sg</td>\n",
       "      <td>D4</td>\n",
       "    </tr>\n",
       "    <tr>\n",
       "      <th>4</th>\n",
       "      <td>CK-SG1807140621</td>\n",
       "      <td>1</td>\n",
       "      <td>they said that theyll be at my place so they t...</td>\n",
       "      <td>Driver - Did not deliver to doorstep</td>\n",
       "      <td>sg</td>\n",
       "      <td>D1</td>\n",
       "    </tr>\n",
       "  </tbody>\n",
       "</table>\n",
       "</div>"
      ],
      "text/plain": [
       "   tracking_number  nps_rating  \\\n",
       "0       AFA146167A           5   \n",
       "1       AFA147716A           6   \n",
       "2  CK-SG1806300877           5   \n",
       "3  CK-SG1807010255           1   \n",
       "4  CK-SG1807140621           1   \n",
       "\n",
       "                                            feedback  \\\n",
       "0  parcel in good condition.ninja could have been...   \n",
       "1                              not very approachable   \n",
       "2  ninja came up to pte condo unit without inform...   \n",
       "3  the delivery man was too bad in communication,...   \n",
       "4  they said that theyll be at my place so they t...   \n",
       "\n",
       "                                issue_1 country issue_1_new  \n",
       "0           Driver - Rude/Poor attitude      sg          D4  \n",
       "1           Driver - Rude/Poor attitude      sg          D4  \n",
       "2           Driver - No call before OFD      sg          D5  \n",
       "3           Driver - Rude/Poor attitude      sg          D4  \n",
       "4  Driver - Did not deliver to doorstep      sg          D1  "
      ]
     },
     "execution_count": 150,
     "metadata": {},
     "output_type": "execute_result"
    }
   ],
   "source": [
    "train = pd.read_csv('C:\\\\Users\\\\Jasmine.Ooi\\\\Desktop\\\\single_issue_4.csv', encoding = \"utf-8\")\n",
    "train.drop(['issue_2','issue_3','issue_2_new','issue_3_new', 'Language','Translation'], axis=1, inplace = True)\n",
    "\n",
    "train.head()"
   ]
  },
  {
   "cell_type": "markdown",
   "metadata": {},
   "source": [
    "Remove \\r and \\n tags"
   ]
  },
  {
   "cell_type": "code",
   "execution_count": 152,
   "metadata": {},
   "outputs": [
    {
     "data": {
      "text/plain": [
       "0    parcel in good condition.ninja could have been...\n",
       "1                                not very approachable\n",
       "2    ninja came up to pte condo unit without inform...\n",
       "3    the delivery man was too bad in communication,...\n",
       "4    they said that theyll be at my place so they t...\n",
       "Name: feedback, dtype: object"
      ]
     },
     "execution_count": 152,
     "metadata": {},
     "output_type": "execute_result"
    }
   ],
   "source": [
    "train['feedback'] = train['feedback'].str.replace(r'(?<![a-zA-Z0-9])\\r\\n', '')\n",
    "train['feedback'] = train['feedback'].str.replace(r'\\r\\n(?![a-zA-Z0-9])', '')\n",
    "train['feedback'] = train['feedback'].str.replace(r'[\\r\\n]', ' ')\n",
    "\n",
    "train['feedback'].head()\n"
   ]
  },
  {
   "cell_type": "markdown",
   "metadata": {},
   "source": [
    "## Replace punctuation"
   ]
  },
  {
   "cell_type": "markdown",
   "metadata": {},
   "source": [
    "Replaced all punctuation with a space, except for apostrophes. Apostrophes that are not preceded and followed by an alphanumeric character are removed. Apostrophes that are preceded and followed by alphanumeric characters are preserved for contractions processing."
   ]
  },
  {
   "cell_type": "code",
   "execution_count": 153,
   "metadata": {},
   "outputs": [],
   "source": [
    "train['feedback'] = train['feedback'].str.replace(r'[^\\w\\s{P}\\']+', ' ')\n",
    "train['feedback'] = train['feedback'].str.replace(r'(?<![a-zA-Z])\\'', '')\n",
    "train['feedback'] = train['feedback'].str.replace(r'\\'(?![a-zA-Z])', '')"
   ]
  },
  {
   "cell_type": "code",
   "execution_count": 154,
   "metadata": {},
   "outputs": [
    {
     "data": {
      "text/plain": [
       "0    parcel in good condition ninja could have been...\n",
       "1                                not very approachable\n",
       "2    ninja came up to pte condo unit without inform...\n",
       "3    the delivery man was too bad in communication ...\n",
       "4    they said that theyll be at my place so they t...\n",
       "Name: feedback, dtype: object"
      ]
     },
     "execution_count": 154,
     "metadata": {},
     "output_type": "execute_result"
    }
   ],
   "source": [
    "train['feedback'].head()"
   ]
  },
  {
   "cell_type": "markdown",
   "metadata": {},
   "source": [
    "## Delete weird characters"
   ]
  },
  {
   "cell_type": "code",
   "execution_count": 155,
   "metadata": {},
   "outputs": [],
   "source": [
    "train['feedback'] = train['feedback'].str.replace(\"([^\\x00-\\x7F])+\", '')"
   ]
  },
  {
   "cell_type": "markdown",
   "metadata": {},
   "source": [
    "## Delete numbers "
   ]
  },
  {
   "cell_type": "code",
   "execution_count": 156,
   "metadata": {},
   "outputs": [],
   "source": [
    "train['feedback'] = train['feedback'].str.replace('\\d+', '')"
   ]
  },
  {
   "cell_type": "markdown",
   "metadata": {},
   "source": [
    "## Strip leading and trailing whitespaces"
   ]
  },
  {
   "cell_type": "code",
   "execution_count": 157,
   "metadata": {},
   "outputs": [],
   "source": [
    "train['feedback'] = train['feedback'].str.strip()"
   ]
  },
  {
   "cell_type": "code",
   "execution_count": 158,
   "metadata": {},
   "outputs": [
    {
     "data": {
      "text/plain": [
       "0    parcel in good condition ninja could have been...\n",
       "1                                not very approachable\n",
       "2    ninja came up to pte condo unit without inform...\n",
       "3    the delivery man was too bad in communication ...\n",
       "4    they said that theyll be at my place so they t...\n",
       "Name: feedback, dtype: object"
      ]
     },
     "execution_count": 158,
     "metadata": {},
     "output_type": "execute_result"
    }
   ],
   "source": [
    "train['feedback'].head()"
   ]
  },
  {
   "cell_type": "markdown",
   "metadata": {},
   "source": [
    "## Assigning code for blank feedback"
   ]
  },
  {
   "cell_type": "code",
   "execution_count": 159,
   "metadata": {},
   "outputs": [
    {
     "data": {
      "text/plain": [
       "3"
      ]
     },
     "execution_count": 159,
     "metadata": {},
     "output_type": "execute_result"
    }
   ],
   "source": [
    "train['feedback'].isnull().sum()"
   ]
  },
  {
   "cell_type": "code",
   "execution_count": 160,
   "metadata": {},
   "outputs": [],
   "source": [
    "train['feedback'].fillna('xyz', inplace = True)"
   ]
  },
  {
   "cell_type": "markdown",
   "metadata": {},
   "source": [
    "Random check on text:"
   ]
  },
  {
   "cell_type": "code",
   "execution_count": 161,
   "metadata": {},
   "outputs": [
    {
     "name": "stdout",
     "output_type": "stream",
     "text": [
      "100    delivery guy called me but i didnt pick up  wi...\n",
      "101                                     not professional\n",
      "102    customer service officer can't help to solve t...\n",
      "103    guy complained he couldnt get there in time  t...\n",
      "104       this time round he is quite rude and impatient\n",
      "105    this is the second time they never call my con...\n",
      "106    claimed that my doorbell isn't working when i ...\n",
      "107                           they dun pick up call rite\n",
      "108                                        poor attitude\n",
      "109       didnt call when couldnt get in to the building\n",
      "110    selected blk  for collection ended up delivere...\n",
      "111    there was two person that came to my house to ...\n",
      "112    mainly on delivery timeline  failed delivery t...\n",
      "113    i don't want to have to collect it i expect th...\n",
      "114                         delivered to wrong apartment\n",
      "115                                                 rude\n",
      "116    it was suppossed to be delivered to my office ...\n",
      "117          the person knock and go off without waiting\n",
      "118    i missed the call from delivery person then i ...\n",
      "119    delivery to wrong place  thankfully person who...\n",
      "Name: feedback, dtype: object\n"
     ]
    }
   ],
   "source": [
    "print(train['feedback'][100:120])"
   ]
  },
  {
   "cell_type": "markdown",
   "metadata": {},
   "source": [
    "## Expand contractions"
   ]
  },
  {
   "cell_type": "markdown",
   "metadata": {},
   "source": [
    "Convert contractions such as \"don't\" and \"wasn't\" to their full forms"
   ]
  },
  {
   "cell_type": "code",
   "execution_count": 162,
   "metadata": {},
   "outputs": [],
   "source": [
    "from pycontractions import Contractions\n",
    "cont = Contractions(api_key=\"glove-twitter-100\")"
   ]
  },
  {
   "cell_type": "code",
   "execution_count": 163,
   "metadata": {},
   "outputs": [],
   "source": [
    "feedback1 = pd.Series(list(cont.expand_texts(train['feedback'])))"
   ]
  },
  {
   "cell_type": "code",
   "execution_count": 164,
   "metadata": {},
   "outputs": [],
   "source": [
    "train1 = pd.concat([train,feedback1], axis = 1)"
   ]
  },
  {
   "cell_type": "code",
   "execution_count": 165,
   "metadata": {
    "scrolled": false
   },
   "outputs": [
    {
     "data": {
      "text/html": [
       "<div>\n",
       "<style scoped>\n",
       "    .dataframe tbody tr th:only-of-type {\n",
       "        vertical-align: middle;\n",
       "    }\n",
       "\n",
       "    .dataframe tbody tr th {\n",
       "        vertical-align: top;\n",
       "    }\n",
       "\n",
       "    .dataframe thead th {\n",
       "        text-align: right;\n",
       "    }\n",
       "</style>\n",
       "<table border=\"1\" class=\"dataframe\">\n",
       "  <thead>\n",
       "    <tr style=\"text-align: right;\">\n",
       "      <th></th>\n",
       "      <th>tracking_number</th>\n",
       "      <th>nps_rating</th>\n",
       "      <th>issue_1</th>\n",
       "      <th>country</th>\n",
       "      <th>issue_1_new</th>\n",
       "      <th>feedback</th>\n",
       "    </tr>\n",
       "  </thead>\n",
       "  <tbody>\n",
       "    <tr>\n",
       "      <th>0</th>\n",
       "      <td>AFA146167A</td>\n",
       "      <td>5</td>\n",
       "      <td>Driver - Rude/Poor attitude</td>\n",
       "      <td>sg</td>\n",
       "      <td>D4</td>\n",
       "      <td>parcel in good condition ninja could have been...</td>\n",
       "    </tr>\n",
       "    <tr>\n",
       "      <th>1</th>\n",
       "      <td>AFA147716A</td>\n",
       "      <td>6</td>\n",
       "      <td>Driver - Rude/Poor attitude</td>\n",
       "      <td>sg</td>\n",
       "      <td>D4</td>\n",
       "      <td>not very approachable</td>\n",
       "    </tr>\n",
       "    <tr>\n",
       "      <th>2</th>\n",
       "      <td>CK-SG1806300877</td>\n",
       "      <td>5</td>\n",
       "      <td>Driver - No call before OFD</td>\n",
       "      <td>sg</td>\n",
       "      <td>D5</td>\n",
       "      <td>ninja came up to pte condo unit without inform...</td>\n",
       "    </tr>\n",
       "    <tr>\n",
       "      <th>3</th>\n",
       "      <td>CK-SG1807010255</td>\n",
       "      <td>1</td>\n",
       "      <td>Driver - Rude/Poor attitude</td>\n",
       "      <td>sg</td>\n",
       "      <td>D4</td>\n",
       "      <td>the delivery man was too bad in communication ...</td>\n",
       "    </tr>\n",
       "    <tr>\n",
       "      <th>4</th>\n",
       "      <td>CK-SG1807140621</td>\n",
       "      <td>1</td>\n",
       "      <td>Driver - Did not deliver to doorstep</td>\n",
       "      <td>sg</td>\n",
       "      <td>D1</td>\n",
       "      <td>they said that they will be at my place so the...</td>\n",
       "    </tr>\n",
       "  </tbody>\n",
       "</table>\n",
       "</div>"
      ],
      "text/plain": [
       "   tracking_number  nps_rating                               issue_1 country  \\\n",
       "0       AFA146167A           5           Driver - Rude/Poor attitude      sg   \n",
       "1       AFA147716A           6           Driver - Rude/Poor attitude      sg   \n",
       "2  CK-SG1806300877           5           Driver - No call before OFD      sg   \n",
       "3  CK-SG1807010255           1           Driver - Rude/Poor attitude      sg   \n",
       "4  CK-SG1807140621           1  Driver - Did not deliver to doorstep      sg   \n",
       "\n",
       "  issue_1_new                                           feedback  \n",
       "0          D4  parcel in good condition ninja could have been...  \n",
       "1          D4                              not very approachable  \n",
       "2          D5  ninja came up to pte condo unit without inform...  \n",
       "3          D4  the delivery man was too bad in communication ...  \n",
       "4          D1  they said that they will be at my place so the...  "
      ]
     },
     "execution_count": 165,
     "metadata": {},
     "output_type": "execute_result"
    }
   ],
   "source": [
    "train1.drop('feedback', axis=1, inplace=True)\n",
    "train1.rename(columns = {0:'feedback'},inplace = True)\n",
    "train1.head()"
   ]
  },
  {
   "cell_type": "markdown",
   "metadata": {},
   "source": [
    "<b> Before: </b>"
   ]
  },
  {
   "cell_type": "code",
   "execution_count": 166,
   "metadata": {},
   "outputs": [
    {
     "name": "stdout",
     "output_type": "stream",
     "text": [
      "1017    people who working we can't collect personally...\n",
      "Name: feedback, dtype: object\n"
     ]
    }
   ],
   "source": [
    "print(train[train['tracking_number']=='CK-SG1901300018']['feedback'])"
   ]
  },
  {
   "cell_type": "markdown",
   "metadata": {},
   "source": [
    "<b> After: </b>"
   ]
  },
  {
   "cell_type": "code",
   "execution_count": 167,
   "metadata": {},
   "outputs": [
    {
     "name": "stdout",
     "output_type": "stream",
     "text": [
      "1017    people who working we cannot collect personall...\n",
      "Name: feedback, dtype: object\n"
     ]
    }
   ],
   "source": [
    "print(train1[train1['tracking_number']=='CK-SG1901300018']['feedback'])"
   ]
  },
  {
   "cell_type": "markdown",
   "metadata": {},
   "source": [
    "## Tokenise the feedback column"
   ]
  },
  {
   "cell_type": "code",
   "execution_count": 168,
   "metadata": {},
   "outputs": [],
   "source": [
    "train1[\"feedback\"] = train1[\"feedback\"].apply(nltk.word_tokenize)"
   ]
  },
  {
   "cell_type": "code",
   "execution_count": 169,
   "metadata": {},
   "outputs": [
    {
     "data": {
      "text/html": [
       "<div>\n",
       "<style scoped>\n",
       "    .dataframe tbody tr th:only-of-type {\n",
       "        vertical-align: middle;\n",
       "    }\n",
       "\n",
       "    .dataframe tbody tr th {\n",
       "        vertical-align: top;\n",
       "    }\n",
       "\n",
       "    .dataframe thead th {\n",
       "        text-align: right;\n",
       "    }\n",
       "</style>\n",
       "<table border=\"1\" class=\"dataframe\">\n",
       "  <thead>\n",
       "    <tr style=\"text-align: right;\">\n",
       "      <th></th>\n",
       "      <th>tracking_number</th>\n",
       "      <th>nps_rating</th>\n",
       "      <th>issue_1</th>\n",
       "      <th>country</th>\n",
       "      <th>issue_1_new</th>\n",
       "      <th>feedback</th>\n",
       "    </tr>\n",
       "  </thead>\n",
       "  <tbody>\n",
       "    <tr>\n",
       "      <th>0</th>\n",
       "      <td>AFA146167A</td>\n",
       "      <td>5</td>\n",
       "      <td>Driver - Rude/Poor attitude</td>\n",
       "      <td>sg</td>\n",
       "      <td>D4</td>\n",
       "      <td>[parcel, in, good, condition, ninja, could, ha...</td>\n",
       "    </tr>\n",
       "    <tr>\n",
       "      <th>1</th>\n",
       "      <td>AFA147716A</td>\n",
       "      <td>6</td>\n",
       "      <td>Driver - Rude/Poor attitude</td>\n",
       "      <td>sg</td>\n",
       "      <td>D4</td>\n",
       "      <td>[not, very, approachable]</td>\n",
       "    </tr>\n",
       "    <tr>\n",
       "      <th>2</th>\n",
       "      <td>CK-SG1806300877</td>\n",
       "      <td>5</td>\n",
       "      <td>Driver - No call before OFD</td>\n",
       "      <td>sg</td>\n",
       "      <td>D5</td>\n",
       "      <td>[ninja, came, up, to, pte, condo, unit, withou...</td>\n",
       "    </tr>\n",
       "    <tr>\n",
       "      <th>3</th>\n",
       "      <td>CK-SG1807010255</td>\n",
       "      <td>1</td>\n",
       "      <td>Driver - Rude/Poor attitude</td>\n",
       "      <td>sg</td>\n",
       "      <td>D4</td>\n",
       "      <td>[the, delivery, man, was, too, bad, in, commun...</td>\n",
       "    </tr>\n",
       "    <tr>\n",
       "      <th>4</th>\n",
       "      <td>CK-SG1807140621</td>\n",
       "      <td>1</td>\n",
       "      <td>Driver - Did not deliver to doorstep</td>\n",
       "      <td>sg</td>\n",
       "      <td>D1</td>\n",
       "      <td>[they, said, that, they, will, be, at, my, pla...</td>\n",
       "    </tr>\n",
       "  </tbody>\n",
       "</table>\n",
       "</div>"
      ],
      "text/plain": [
       "   tracking_number  nps_rating                               issue_1 country  \\\n",
       "0       AFA146167A           5           Driver - Rude/Poor attitude      sg   \n",
       "1       AFA147716A           6           Driver - Rude/Poor attitude      sg   \n",
       "2  CK-SG1806300877           5           Driver - No call before OFD      sg   \n",
       "3  CK-SG1807010255           1           Driver - Rude/Poor attitude      sg   \n",
       "4  CK-SG1807140621           1  Driver - Did not deliver to doorstep      sg   \n",
       "\n",
       "  issue_1_new                                           feedback  \n",
       "0          D4  [parcel, in, good, condition, ninja, could, ha...  \n",
       "1          D4                          [not, very, approachable]  \n",
       "2          D5  [ninja, came, up, to, pte, condo, unit, withou...  \n",
       "3          D4  [the, delivery, man, was, too, bad, in, commun...  \n",
       "4          D1  [they, said, that, they, will, be, at, my, pla...  "
      ]
     },
     "execution_count": 169,
     "metadata": {},
     "output_type": "execute_result"
    }
   ],
   "source": [
    "train1.head()"
   ]
  },
  {
   "cell_type": "markdown",
   "metadata": {},
   "source": [
    "## Remove typos"
   ]
  },
  {
   "cell_type": "markdown",
   "metadata": {},
   "source": [
    "Removing excessive letters (i.e. more than 2 letters of the same kind in a row)"
   ]
  },
  {
   "cell_type": "code",
   "execution_count": 170,
   "metadata": {},
   "outputs": [],
   "source": [
    "def reduce_lengthening(text):\n",
    "    pattern = re.compile(r\"(.)\\1{2,}\")\n",
    "    return pattern.sub(r\"\\1\\1\", text)"
   ]
  },
  {
   "cell_type": "code",
   "execution_count": 171,
   "metadata": {},
   "outputs": [],
   "source": [
    "train1['feedback'] = train1['feedback'].apply(lambda x: [reduce_lengthening(x[i]) for i in range(len(x)) ])"
   ]
  },
  {
   "cell_type": "code",
   "execution_count": 172,
   "metadata": {},
   "outputs": [
    {
     "data": {
      "text/plain": [
       "0    [parcel, in, good, condition, ninja, could, ha...\n",
       "1                            [not, very, approachable]\n",
       "2    [ninja, came, up, to, pte, condo, unit, withou...\n",
       "3    [the, delivery, man, was, too, bad, in, commun...\n",
       "4    [they, said, that, they, will, be, at, my, pla...\n",
       "Name: feedback, dtype: object"
      ]
     },
     "execution_count": 172,
     "metadata": {},
     "output_type": "execute_result"
    }
   ],
   "source": [
    "train1['feedback'].head()"
   ]
  },
  {
   "cell_type": "markdown",
   "metadata": {},
   "source": [
    "<br>\n",
    "Manual removal of contextual typos (Ninja, Sephora, Zalora)"
   ]
  },
  {
   "cell_type": "code",
   "execution_count": 173,
   "metadata": {},
   "outputs": [],
   "source": [
    "def correct_manual(text):\n",
    "    pattern1 = re.compile(r\"ni.*j.*a\")\n",
    "    pattern2 = re.compile(r\"s.{1,3}[pf].*ra\")\n",
    "    pattern3 = re.compile(r\"z.{1,3}l.*r[ae]\")\n",
    "    if re.match(pattern1,text) != None:\n",
    "        return pattern1.sub('ninja', text)\n",
    "    elif re.match(pattern2,text) != None:\n",
    "        return pattern2.sub('sephora', text)\n",
    "    elif re.match(pattern3, text) != None:\n",
    "        return pattern3.sub('zalora', text)\n",
    "    else:\n",
    "        return text\n",
    "    "
   ]
  },
  {
   "cell_type": "code",
   "execution_count": 174,
   "metadata": {},
   "outputs": [],
   "source": [
    "train1['feedback'] = train1['feedback'].apply(lambda x: [correct_manual(x[i]) for i in range(len(x)) ])"
   ]
  },
  {
   "cell_type": "markdown",
   "metadata": {},
   "source": [
    "<br>\n",
    "Manual removal of non-English words"
   ]
  },
  {
   "cell_type": "code",
   "execution_count": 175,
   "metadata": {},
   "outputs": [],
   "source": [
    "nonenglish_words = ['aku','saya','beliau','kami','dari','anot','ke','yang','untuk','di','walaupun','apa','sahaja','saja','dalam','dlm','dia','mereka','sudah','sdh','tetapi','tapi','lah','lor','sia','knp','kenapa','liddat','blm','belum','walau','tu','dah','dahlah']\n"
   ]
  },
  {
   "cell_type": "code",
   "execution_count": 176,
   "metadata": {},
   "outputs": [],
   "source": [
    "train1['feedback'] = train1['feedback'].apply(lambda x: [item for item in x if item not in nonenglish_words])"
   ]
  },
  {
   "cell_type": "markdown",
   "metadata": {},
   "source": [
    "<br>\n",
    "Automated spellcheck (Not using as of now because of high % of localised slang)"
   ]
  },
  {
   "cell_type": "code",
   "execution_count": 87,
   "metadata": {},
   "outputs": [
    {
     "name": "stdout",
     "output_type": "stream",
     "text": [
      "corner\n",
      "{'courier', 'cosier', 'corker', 'corner', 'copier', 'correr', 'corder', 'crier'}\n",
      "harray\n",
      "{'harray'}\n",
      "couldnt\n",
      "{'couldnt', \"couldn't\"}\n"
     ]
    }
   ],
   "source": [
    "# from spellchecker import SpellChecker\n",
    "# spell = SpellChecker()\n",
    "\n",
    "# # find those words that may be misspelled\n",
    "# misspelled = spell.unknown(['corier', 'hariraya', 'correspondent', 'couldnnt'])\n",
    "\n",
    "# for word in misspelled:\n",
    "#     # Get the one `most likely` answer\n",
    "#     print(spell.correction(word))\n",
    "\n",
    "#     # Get a list of `likely` options\n",
    "#     print(spell.candidates(word))"
   ]
  },
  {
   "cell_type": "markdown",
   "metadata": {},
   "source": [
    "## Remove stopwords"
   ]
  },
  {
   "cell_type": "code",
   "execution_count": 177,
   "metadata": {},
   "outputs": [
    {
     "name": "stdout",
     "output_type": "stream",
     "text": [
      "['i', 'me', 'my', 'myself', 'we', 'our', 'ours', 'ourselves', 'you', 'your', 'yours', 'yourself', 'yourselves', 'he', 'him', 'his', 'himself', 'she', 'her', 'hers', 'herself', 'it', 'its', 'itself', 'they', 'them', 'their', 'theirs', 'themselves', 'what', 'which', 'who', 'whom', 'this', 'that', 'these', 'those', 'am', 'is', 'are', 'was', 'were', 'be', 'been', 'being', 'have', 'has', 'had', 'having', 'do', 'does', 'did', 'doing', 'a', 'an', 'the', 'and', 'but', 'if', 'or', 'because', 'as', 'while', 'of', 'at', 'by', 'for', 'with', 'about', 'against', 'between', 'into', 'through', 'above', 'below', 'to', 'from', 'up', 'down', 'in', 'out', 'on', 'off', 'over', 'under', 'again', 'further', 'then', 'here', 'there', 'when', 'where', 'why', 'how', 'all', 'any', 'both', 'each', 'more', 'most', 'other', 'some', 'such', 'nor', 'own', 'same', 'so', 'than', 'too', 'very', 's', 't', 'can', 'will', 'just', 'don', 'should', 'now', 'd', 'll', 'm', 'o', 're', 've', 'y', 'ain', 'aren', 'couldn', 'didn', 'doesn', 'hadn', 'hasn', 'haven', 'isn', 'ma', 'mightn', 'mustn', 'needn', 'shan', 'shouldn', 'wasn', 'weren', 'won', 'wouldn', 'simply', 'guys', 'yall', 'courier', 'please', 'totally', 'may', 'almost', 'nearly', 'maybe', 'I']\n"
     ]
    }
   ],
   "source": [
    "stop_words = stopwords.words(\"english\")\n",
    "# print(stop_words)\n",
    "stop_words = [e for e in stop_words if e not in ('not','no','only','once','few','after','before','during','until')]\n",
    "stop_words = [e for e in stop_words if \"'\" not in e]\n",
    "additional_sw = ['simply','guys','yall','courier','please','totally','may','almost','nearly','maybe', 'I']\n",
    "stop_words = stop_words + additional_sw\n",
    "print(stop_words)"
   ]
  },
  {
   "cell_type": "code",
   "execution_count": 178,
   "metadata": {},
   "outputs": [],
   "source": [
    "train1['feedback'] = train1['feedback'].apply(lambda x: [item for item in x if item not in stop_words])"
   ]
  },
  {
   "cell_type": "markdown",
   "metadata": {},
   "source": [
    "## Check no. of words"
   ]
  },
  {
   "cell_type": "markdown",
   "metadata": {},
   "source": [
    "Has the number of words been reduced significantly?"
   ]
  },
  {
   "cell_type": "code",
   "execution_count": 179,
   "metadata": {},
   "outputs": [
    {
     "name": "stdout",
     "output_type": "stream",
     "text": [
      "206389\n",
      "8330\n"
     ]
    }
   ],
   "source": [
    "totalwords = train1['feedback'].explode().reset_index(drop = True).tolist()\n",
    "print(len(totalwords))\n",
    "print(len(set(totalwords)))"
   ]
  },
  {
   "cell_type": "code",
   "execution_count": 180,
   "metadata": {},
   "outputs": [
    {
     "name": "stdout",
     "output_type": "stream",
     "text": [
      "<FreqDist with 8330 samples and 206389 outcomes>\n"
     ]
    }
   ],
   "source": [
    "from nltk.probability import FreqDist\n",
    "freqdist = FreqDist(totalwords)\n",
    "print(freqdist)"
   ]
  },
  {
   "cell_type": "markdown",
   "metadata": {},
   "source": [
    "<br>\n",
    "<b> All the words present in the data: </b>"
   ]
  },
  {
   "cell_type": "code",
   "execution_count": null,
   "metadata": {},
   "outputs": [],
   "source": [
    "freqdist.keys()"
   ]
  },
  {
   "cell_type": "markdown",
   "metadata": {},
   "source": [
    "<br>\n",
    "<b> Top 50 most comon words: </b>"
   ]
  },
  {
   "cell_type": "code",
   "execution_count": 181,
   "metadata": {},
   "outputs": [
    {
     "data": {
      "text/plain": [
       "[('delivery', 10243),\n",
       " ('not', 8575),\n",
       " ('parcel', 5736),\n",
       " ('time', 3491),\n",
       " ('no', 2696),\n",
       " ('call', 2166),\n",
       " ('delivered', 2116),\n",
       " ('pm', 2009),\n",
       " ('ninja', 1989),\n",
       " ('service', 1974),\n",
       " ('day', 1905),\n",
       " ('home', 1801),\n",
       " ('deliver', 1667),\n",
       " ('received', 1614),\n",
       " ('item', 1498),\n",
       " ('door', 1312),\n",
       " ('customer', 1243),\n",
       " ('only', 1115),\n",
       " ('even', 1089),\n",
       " ('late', 1051),\n",
       " ('before', 1042),\n",
       " ('one', 1026),\n",
       " ('receive', 999),\n",
       " ('called', 980),\n",
       " ('van', 967),\n",
       " ('good', 945),\n",
       " ('after', 932),\n",
       " ('days', 887),\n",
       " ('driver', 871),\n",
       " ('address', 852),\n",
       " ('package', 830),\n",
       " ('person', 818),\n",
       " ('would', 806),\n",
       " ('staff', 795),\n",
       " ('house', 780),\n",
       " ('left', 774),\n",
       " ('man', 744),\n",
       " ('guy', 734),\n",
       " ('wait', 733),\n",
       " ('sms', 704),\n",
       " ('reason', 679),\n",
       " ('first', 675),\n",
       " ('without', 657),\n",
       " ('could', 648),\n",
       " ('office', 646),\n",
       " ('never', 629),\n",
       " ('get', 628),\n",
       " ('slow', 626),\n",
       " ('said', 617),\n",
       " ('rude', 602)]"
      ]
     },
     "execution_count": 181,
     "metadata": {},
     "output_type": "execute_result"
    }
   ],
   "source": [
    "freqdist.most_common(50)"
   ]
  },
  {
   "cell_type": "markdown",
   "metadata": {},
   "source": [
    "<br>\n",
    "<b> Top 500 least frequent words: </b>"
   ]
  },
  {
   "cell_type": "code",
   "execution_count": 182,
   "metadata": {},
   "outputs": [
    {
     "data": {
      "text/plain": [
       "[('feign', 1),\n",
       " ('bm', 1),\n",
       " ('coast', 1),\n",
       " ('delibery', 1),\n",
       " ('slim', 1),\n",
       " ('cyberjaya', 1),\n",
       " ('tensed', 1),\n",
       " ('depart', 1),\n",
       " ('wright', 1),\n",
       " ('refundable', 1),\n",
       " ('maghrib', 1),\n",
       " ('miscommunicate', 1),\n",
       " ('foolish', 1),\n",
       " ('superb', 1),\n",
       " ('utm', 1),\n",
       " ('afiq', 1),\n",
       " ('signiture', 1),\n",
       " ('fool', 1),\n",
       " ('pocketed', 1),\n",
       " ('reliased', 1),\n",
       " ('pg', 1),\n",
       " ('addressagain', 1),\n",
       " ('liners', 1),\n",
       " ('sahar', 1),\n",
       " ('solely', 1),\n",
       " ('respecting', 1),\n",
       " ('fullfiled', 1),\n",
       " ('unreached', 1),\n",
       " ('thrilled', 1),\n",
       " ('dropbox', 1),\n",
       " ('moody', 1),\n",
       " ('overlooked', 1),\n",
       " ('brainstorming', 1),\n",
       " ('verry', 1),\n",
       " ('unprofesional', 1),\n",
       " ('song', 1),\n",
       " ('recommeded', 1),\n",
       " ('lols', 1),\n",
       " ('telephonr', 1),\n",
       " ('tome', 1),\n",
       " ('fren', 1),\n",
       " ('vodoo', 1),\n",
       " ('thin', 1),\n",
       " ('connaught', 1),\n",
       " ('pdn', 1),\n",
       " ('perdana', 1),\n",
       " ('cel', 1),\n",
       " ('melia', 1),\n",
       " ('defected', 1),\n",
       " ('hireoku', 1),\n",
       " ('devilry', 1),\n",
       " ('emel', 1),\n",
       " ('tudung', 1),\n",
       " ('unacceptably', 1),\n",
       " ('attitube', 1),\n",
       " ('snack', 1),\n",
       " ('sweating', 1),\n",
       " ('aby', 1),\n",
       " ('ignorant', 1),\n",
       " ('embarrassed', 1),\n",
       " ('spelt', 1),\n",
       " ('cite', 1),\n",
       " ('sdn', 1),\n",
       " ('bhd', 1),\n",
       " ('despatched', 1),\n",
       " ('corversation', 1),\n",
       " ('healthy', 1),\n",
       " ('seed', 1),\n",
       " ('universiti', 1),\n",
       " ('pekan', 1),\n",
       " ('gambang', 1),\n",
       " ('sc', 1),\n",
       " ('innovative', 1),\n",
       " ('tackle', 1),\n",
       " ('nvmyleyaz', 1),\n",
       " ('insecure', 1),\n",
       " ('adjusted', 1),\n",
       " ('ndly', 1),\n",
       " ('style', 1),\n",
       " ('illegally', 1),\n",
       " ('bunyi', 1),\n",
       " ('identifier', 1),\n",
       " ('restaurant', 1),\n",
       " ('cake', 1),\n",
       " ('gumption', 1),\n",
       " ('gajah', 1),\n",
       " ('durian', 1),\n",
       " ('tunggal', 1),\n",
       " ('isaac', 1),\n",
       " ('dustbin', 1),\n",
       " ('disorganized', 1),\n",
       " ('proove', 1),\n",
       " ('extortion', 1),\n",
       " ('requets', 1),\n",
       " ('dropby', 1),\n",
       " ('tesco', 1),\n",
       " ('pigeon', 1),\n",
       " ('ezibox', 1),\n",
       " ('sizes', 1),\n",
       " ('jokes', 1),\n",
       " ('soliciting', 1),\n",
       " ('vani', 1),\n",
       " ('byhand', 1),\n",
       " ('persue', 1),\n",
       " ('thw', 1),\n",
       " ('lengthy', 1),\n",
       " ('roads', 1),\n",
       " ('vehicular', 1),\n",
       " ('trow', 1),\n",
       " ('cx', 1),\n",
       " ('unaccepted', 1),\n",
       " ('appme', 1),\n",
       " ('collagues', 1),\n",
       " ('faithful', 1),\n",
       " ('bf', 1),\n",
       " ('tips', 1),\n",
       " ('knife', 1),\n",
       " ('okt', 1),\n",
       " ('drlivery', 1),\n",
       " ('costumes', 1),\n",
       " ('jim', 1),\n",
       " ('carpouch', 1),\n",
       " ('irresponsibilities', 1),\n",
       " ('bookshop', 1),\n",
       " ('edd', 1),\n",
       " ('accepatable', 1),\n",
       " ('pma', 1),\n",
       " ('dn', 1),\n",
       " ('questionaire', 1),\n",
       " ('prolong', 1),\n",
       " ('manys', 1),\n",
       " ('profile', 1),\n",
       " ('superman', 1),\n",
       " ('tip', 1),\n",
       " ('crispy', 1),\n",
       " ('lee', 1),\n",
       " ('bookxcess', 1),\n",
       " ('tagla', 1),\n",
       " ('disnt', 1),\n",
       " ('justnow', 1),\n",
       " ('unleash', 1),\n",
       " ('sunset', 1),\n",
       " ('wisely', 1),\n",
       " ('interest', 1),\n",
       " ('latee', 1),\n",
       " ('starring', 1),\n",
       " ('chargevery', 1),\n",
       " ('notrespect', 1),\n",
       " ('highjacked', 1),\n",
       " ('paperwork', 1),\n",
       " ('chew', 1),\n",
       " ('preoccupied', 1),\n",
       " ('sensivity', 1),\n",
       " ('bawa', 1),\n",
       " ('duit', 1),\n",
       " ('siap', 1),\n",
       " ('straightly', 1),\n",
       " ('proressional', 1),\n",
       " ('sangat', 1),\n",
       " ('expatiation', 1),\n",
       " ('bhowcwld', 1),\n",
       " ('beeb', 1),\n",
       " ('funnily', 1),\n",
       " ('revealed', 1),\n",
       " ('tolerance', 1),\n",
       " ('outto', 1),\n",
       " ('maybewont', 1),\n",
       " ('yesterdy', 1),\n",
       " ('deiver', 1),\n",
       " ('sucked', 1),\n",
       " ('signer', 1),\n",
       " ('mumbled', 1),\n",
       " ('stunned', 1),\n",
       " ('peeping', 1),\n",
       " ('koyak', 1),\n",
       " ('hadiah', 1),\n",
       " ('teruk', 1),\n",
       " ('devastated', 1),\n",
       " ('atitude', 1),\n",
       " ('assms', 1),\n",
       " ('borrowed', 1),\n",
       " ('inexperienced', 1),\n",
       " ('wave', 1),\n",
       " ('selves', 1),\n",
       " ('misrepresentation', 1),\n",
       " ('servicem', 1),\n",
       " ('cloth', 1),\n",
       " ('hons', 1),\n",
       " ('temerloh', 1),\n",
       " ('ninjam', 1),\n",
       " ('freelance', 1),\n",
       " ('insurance', 1),\n",
       " ('segamat', 1),\n",
       " ('sugar', 1),\n",
       " ('airplus', 1),\n",
       " ('tapah', 1),\n",
       " ('heartbreaking', 1),\n",
       " ('namen', 1),\n",
       " ('diffrerent', 1),\n",
       " ('invoive', 1),\n",
       " ('relation', 1),\n",
       " ('dirumah', 1),\n",
       " ('pergi', 1),\n",
       " ('smilt', 1),\n",
       " ('latenight', 1),\n",
       " ('jz', 1),\n",
       " ('continuesly', 1),\n",
       " ('stank', 1),\n",
       " ('applied', 1),\n",
       " ('booze', 1),\n",
       " ('likeable', 1),\n",
       " ('develope', 1),\n",
       " ('reaallyy', 1),\n",
       " ('amounting', 1),\n",
       " ('becuase', 1),\n",
       " ('veryget', 1),\n",
       " ('pospone', 1),\n",
       " ('tortoise', 1),\n",
       " ('phew', 1),\n",
       " ('wherever', 1),\n",
       " ('medklinn', 1),\n",
       " ('cursed', 1),\n",
       " ('bawah', 1),\n",
       " ('soonest', 1),\n",
       " ('jeopardized', 1),\n",
       " ('iorder', 1),\n",
       " ('essence', 1),\n",
       " ('whoo', 1),\n",
       " ('waht', 1),\n",
       " ('gelugor', 1),\n",
       " ('aramex', 1),\n",
       " ('bcose', 1),\n",
       " ('cosignment', 1),\n",
       " ('cakenis', 1),\n",
       " ('altitude', 1),\n",
       " ('semi', 1),\n",
       " ('detached', 1),\n",
       " ('precint', 1),\n",
       " ('authorising', 1),\n",
       " ('deleivered', 1),\n",
       " ('stubborn', 1),\n",
       " ('kf', 1),\n",
       " ('nvmyarian', 1),\n",
       " ('grandmother', 1),\n",
       " ('etcq', 1),\n",
       " ('fastest', 1),\n",
       " ('bubbles', 1),\n",
       " ('shapes', 1),\n",
       " ('mizzue', 1),\n",
       " ('edition', 1),\n",
       " ('splinters', 1),\n",
       " ('inactivity', 1),\n",
       " ('eidetic', 1),\n",
       " ('hijab', 1),\n",
       " ('zalorawas', 1),\n",
       " ('monthly', 1),\n",
       " ('rounding', 1),\n",
       " ('jjy', 1),\n",
       " ('dhiyauddin', 1),\n",
       " ('identical', 1),\n",
       " ('unexpectedly', 1),\n",
       " ('oke', 1),\n",
       " ('formally', 1),\n",
       " ('exasperated', 1),\n",
       " ('ed', 1),\n",
       " ('unrecognizable', 1),\n",
       " ('breena', 1),\n",
       " ('shopper', 1),\n",
       " ('knowledgeable', 1),\n",
       " ('optic', 1),\n",
       " ('turtles', 1),\n",
       " ('wears', 1),\n",
       " ('nvmytresa', 1),\n",
       " ('unto', 1),\n",
       " ('skynet', 1),\n",
       " ('rescudeled', 1),\n",
       " ('sided', 1),\n",
       " ('aredoing', 1),\n",
       " ('prefers', 1),\n",
       " ('endure', 1),\n",
       " ('mentality', 1),\n",
       " ('dynamics', 1),\n",
       " ('houseyard', 1),\n",
       " ('fxx', 1),\n",
       " ('blazerfaster', 1),\n",
       " ('aisyah', 1),\n",
       " ('binti', 1),\n",
       " ('rameji', 1),\n",
       " ('weeksto', 1),\n",
       " ('ili', 1),\n",
       " ('uia', 1),\n",
       " ('aunt', 1),\n",
       " ('theoffice', 1),\n",
       " ('unprofessionalism', 1),\n",
       " ('leads', 1),\n",
       " ('whatnot', 1),\n",
       " ('kubu', 1),\n",
       " ('kkb', 1),\n",
       " ('repasting', 1),\n",
       " ('restrict', 1),\n",
       " ('radius', 1),\n",
       " ('rrceived', 1),\n",
       " ('exclude', 1),\n",
       " ('hesitated', 1),\n",
       " ('behald', 1),\n",
       " ('abdul', 1),\n",
       " ('adbul', 1),\n",
       " ('prefection', 1),\n",
       " ('puki', 1),\n",
       " ('wishing', 1),\n",
       " ('fought', 1),\n",
       " ('announce', 1),\n",
       " ('cockroach', 1),\n",
       " ('actitude', 1),\n",
       " ('himselves', 1),\n",
       " ('idling', 1),\n",
       " ('inbounded', 1),\n",
       " ('departing', 1),\n",
       " ('evryday', 1),\n",
       " ('parcwl', 1),\n",
       " ('convocation', 1),\n",
       " ('ruining', 1),\n",
       " ('erghh', 1),\n",
       " ('authentication', 1),\n",
       " ('lahh', 1),\n",
       " ('residencies', 1),\n",
       " ('memoravle', 1),\n",
       " ('embarrass', 1),\n",
       " ('commendable', 1),\n",
       " ('drenched', 1),\n",
       " ('ha', 1),\n",
       " ('rerouted', 1),\n",
       " ('servics', 1),\n",
       " ('ps', 1),\n",
       " ('ditched', 1),\n",
       " ('proces', 1),\n",
       " ('syarifah', 1),\n",
       " ('variable', 1),\n",
       " ('ruse', 1),\n",
       " ('nasty', 1),\n",
       " ('disregard', 1),\n",
       " ('lure', 1),\n",
       " ('sussed', 1),\n",
       " ('consists', 1),\n",
       " ('exercise', 1),\n",
       " ('lesson', 1),\n",
       " ('sceptically', 1),\n",
       " ('distant', 1),\n",
       " ('helo', 1),\n",
       " ('nextday', 1),\n",
       " ('selalu', 1),\n",
       " ('pleasee', 1),\n",
       " ('metallic', 1),\n",
       " ('ecltc', 1),\n",
       " ('verybad', 1),\n",
       " ('attachment', 1),\n",
       " ('indians', 1),\n",
       " ('entertain', 1),\n",
       " ('temperature', 1),\n",
       " ('temperatures', 1),\n",
       " ('rise', 1),\n",
       " ('azlan', 1),\n",
       " ('shahul', 1),\n",
       " ('hameed', 1),\n",
       " ('wh', 1),\n",
       " ('guilty', 1),\n",
       " ('gracious', 1),\n",
       " ('emotional', 1),\n",
       " ('locators', 1),\n",
       " ('wharehouse', 1),\n",
       " ('upkeep', 1),\n",
       " ('cleanliness', 1),\n",
       " ('deliverance', 1),\n",
       " ('homework', 1),\n",
       " ('accommodative', 1),\n",
       " ('outing', 1),\n",
       " ('amend', 1),\n",
       " ('grey', 1),\n",
       " ('manufacturers', 1),\n",
       " ('doorstop', 1),\n",
       " ('deliverrytake', 1),\n",
       " ('teribble', 1),\n",
       " ('scrutinize', 1),\n",
       " ('jalil', 1),\n",
       " ('itu', 1),\n",
       " ('understandant', 1),\n",
       " ('attach', 1),\n",
       " ('observed', 1),\n",
       " ('mths', 1),\n",
       " ('skin', 1),\n",
       " ('aimeen', 1),\n",
       " ('scripts', 1),\n",
       " ('forgive', 1),\n",
       " ('lembah', 1),\n",
       " ('urban', 1),\n",
       " ('shiit', 1),\n",
       " ('saturay', 1),\n",
       " ('pots', 1),\n",
       " ('wares', 1),\n",
       " ('humanity', 1),\n",
       " ('mahallah', 1),\n",
       " ('ruqayyah', 1),\n",
       " ('awb', 1),\n",
       " ('inbox', 1),\n",
       " ('norsalha', 1),\n",
       " ('bt', 1),\n",
       " ('othman', 1),\n",
       " ('sugarscarf', 1),\n",
       " ('brt', 1),\n",
       " ('withheld', 1),\n",
       " ('contatct', 1),\n",
       " ('outsude', 1),\n",
       " ('iphone', 1),\n",
       " ('ty', 1),\n",
       " ('shoving', 1),\n",
       " ('pwtc', 1),\n",
       " ('beggers', 1),\n",
       " ('delivere', 1),\n",
       " ('reachy', 1),\n",
       " ('lecture', 1),\n",
       " ('scribble', 1),\n",
       " ('colection', 1),\n",
       " ('skip', 1),\n",
       " ('understands', 1),\n",
       " ('wrapping', 1),\n",
       " ('jelini', 1),\n",
       " ('isa', 1),\n",
       " ('bye', 1),\n",
       " ('japanese', 1),\n",
       " ('severe', 1),\n",
       " ('embarrasement', 1),\n",
       " ('introducing', 1),\n",
       " ('dilevery', 1),\n",
       " ('bins', 1),\n",
       " ('christian', 1),\n",
       " ('heberle', 1),\n",
       " ('troika', 1),\n",
       " ('persiaran', 1),\n",
       " ('klcc', 1),\n",
       " ('germany', 1),\n",
       " ('notebooks', 1),\n",
       " ('improper', 1),\n",
       " ('elaboration', 1),\n",
       " ('farmasi', 1),\n",
       " ('medic', 1),\n",
       " ('alchemy', 1),\n",
       " ('asics', 1),\n",
       " ('oi', 1),\n",
       " ('ka', 1),\n",
       " ('postlaju', 1),\n",
       " ('delevering', 1),\n",
       " ('introduced', 1),\n",
       " ('departed', 1),\n",
       " ('bru', 1),\n",
       " ('dpt', 1),\n",
       " ('dr', 1),\n",
       " ('smpai', 1),\n",
       " ('strikingly', 1),\n",
       " ('sunny', 1),\n",
       " ('anti', 1),\n",
       " ('guiding', 1),\n",
       " ('counseling', 1),\n",
       " ('verbal', 1),\n",
       " ('sevice', 1),\n",
       " ('grumbling', 1),\n",
       " ('expeted', 1),\n",
       " ('tedboy', 1),\n",
       " ('bakery', 1),\n",
       " ('pretending', 1),\n",
       " ('todays', 1),\n",
       " ('confirmations', 1),\n",
       " ('nephew', 1),\n",
       " ('elder', 1),\n",
       " ('servixe', 1),\n",
       " ('mu', 1),\n",
       " ('kiosks', 1),\n",
       " ('scattered', 1),\n",
       " ('miserable', 1),\n",
       " ('iam', 1),\n",
       " ('waitin', 1),\n",
       " ('salah', 1),\n",
       " ('bushes', 1),\n",
       " ('unsystematic', 1),\n",
       " ('rahayu', 1),\n",
       " ('exists', 1),\n",
       " (\"m'sia\", 1),\n",
       " ('pyramid', 1),\n",
       " ('geo', 1),\n",
       " ('allegedly', 1),\n",
       " ('justify', 1),\n",
       " ('understandable', 1),\n",
       " ('fuel', 1),\n",
       " ('ehh', 1),\n",
       " ('pandai', 1),\n",
       " ('pulakk', 1),\n",
       " ('haa', 1),\n",
       " ('punished', 1),\n",
       " ('cooperation', 1),\n",
       " ('importance', 1)]"
      ]
     },
     "execution_count": 182,
     "metadata": {},
     "output_type": "execute_result"
    }
   ],
   "source": [
    "freqdist.most_common()[-500:-1]"
   ]
  },
  {
   "cell_type": "markdown",
   "metadata": {},
   "source": [
    "Rejoin words into a string for parsing into model"
   ]
  },
  {
   "cell_type": "code",
   "execution_count": 183,
   "metadata": {},
   "outputs": [],
   "source": [
    "train1['feedback2'] = train1[\"feedback\"].str.join(\" \")"
   ]
  },
  {
   "cell_type": "code",
   "execution_count": 184,
   "metadata": {},
   "outputs": [
    {
     "data": {
      "text/html": [
       "<div>\n",
       "<style scoped>\n",
       "    .dataframe tbody tr th:only-of-type {\n",
       "        vertical-align: middle;\n",
       "    }\n",
       "\n",
       "    .dataframe tbody tr th {\n",
       "        vertical-align: top;\n",
       "    }\n",
       "\n",
       "    .dataframe thead th {\n",
       "        text-align: right;\n",
       "    }\n",
       "</style>\n",
       "<table border=\"1\" class=\"dataframe\">\n",
       "  <thead>\n",
       "    <tr style=\"text-align: right;\">\n",
       "      <th></th>\n",
       "      <th>tracking_number</th>\n",
       "      <th>nps_rating</th>\n",
       "      <th>issue_1</th>\n",
       "      <th>country</th>\n",
       "      <th>issue_1_new</th>\n",
       "      <th>feedback</th>\n",
       "      <th>feedback2</th>\n",
       "    </tr>\n",
       "  </thead>\n",
       "  <tbody>\n",
       "    <tr>\n",
       "      <th>0</th>\n",
       "      <td>AFA146167A</td>\n",
       "      <td>5</td>\n",
       "      <td>Driver - Rude/Poor attitude</td>\n",
       "      <td>sg</td>\n",
       "      <td>D4</td>\n",
       "      <td>[parcel, good, condition, ninja, could, polite...</td>\n",
       "      <td>parcel good condition ninja could polite ringi...</td>\n",
       "    </tr>\n",
       "    <tr>\n",
       "      <th>1</th>\n",
       "      <td>AFA147716A</td>\n",
       "      <td>6</td>\n",
       "      <td>Driver - Rude/Poor attitude</td>\n",
       "      <td>sg</td>\n",
       "      <td>D4</td>\n",
       "      <td>[not, approachable]</td>\n",
       "      <td>not approachable</td>\n",
       "    </tr>\n",
       "    <tr>\n",
       "      <th>2</th>\n",
       "      <td>CK-SG1806300877</td>\n",
       "      <td>5</td>\n",
       "      <td>Driver - No call before OFD</td>\n",
       "      <td>sg</td>\n",
       "      <td>D5</td>\n",
       "      <td>[ninja, came, pte, condo, unit, without, infor...</td>\n",
       "      <td>ninja came pte condo unit without informing gu...</td>\n",
       "    </tr>\n",
       "    <tr>\n",
       "      <th>3</th>\n",
       "      <td>CK-SG1807010255</td>\n",
       "      <td>1</td>\n",
       "      <td>Driver - Rude/Poor attitude</td>\n",
       "      <td>sg</td>\n",
       "      <td>D4</td>\n",
       "      <td>[delivery, man, bad, communication, unpatient,...</td>\n",
       "      <td>delivery man bad communication unpatient told ...</td>\n",
       "    </tr>\n",
       "    <tr>\n",
       "      <th>4</th>\n",
       "      <td>CK-SG1807140621</td>\n",
       "      <td>1</td>\n",
       "      <td>Driver - Did not deliver to doorstep</td>\n",
       "      <td>sg</td>\n",
       "      <td>D1</td>\n",
       "      <td>[said, place, told, come, went, rushing, wait,...</td>\n",
       "      <td>said place told come went rushing wait mins</td>\n",
       "    </tr>\n",
       "  </tbody>\n",
       "</table>\n",
       "</div>"
      ],
      "text/plain": [
       "   tracking_number  nps_rating                               issue_1 country  \\\n",
       "0       AFA146167A           5           Driver - Rude/Poor attitude      sg   \n",
       "1       AFA147716A           6           Driver - Rude/Poor attitude      sg   \n",
       "2  CK-SG1806300877           5           Driver - No call before OFD      sg   \n",
       "3  CK-SG1807010255           1           Driver - Rude/Poor attitude      sg   \n",
       "4  CK-SG1807140621           1  Driver - Did not deliver to doorstep      sg   \n",
       "\n",
       "  issue_1_new                                           feedback  \\\n",
       "0          D4  [parcel, good, condition, ninja, could, polite...   \n",
       "1          D4                                [not, approachable]   \n",
       "2          D5  [ninja, came, pte, condo, unit, without, infor...   \n",
       "3          D4  [delivery, man, bad, communication, unpatient,...   \n",
       "4          D1  [said, place, told, come, went, rushing, wait,...   \n",
       "\n",
       "                                           feedback2  \n",
       "0  parcel good condition ninja could polite ringi...  \n",
       "1                                   not approachable  \n",
       "2  ninja came pte condo unit without informing gu...  \n",
       "3  delivery man bad communication unpatient told ...  \n",
       "4        said place told come went rushing wait mins  "
      ]
     },
     "execution_count": 184,
     "metadata": {},
     "output_type": "execute_result"
    }
   ],
   "source": [
    "train1.head()"
   ]
  },
  {
   "cell_type": "markdown",
   "metadata": {},
   "source": [
    "## Train Test Split"
   ]
  },
  {
   "cell_type": "code",
   "execution_count": 185,
   "metadata": {},
   "outputs": [],
   "source": [
    "X_train, X_val, y_train, y_val = train_test_split(train1['feedback2'], train1['issue_1_new'])"
   ]
  },
  {
   "cell_type": "markdown",
   "metadata": {},
   "source": [
    "## Vectorise"
   ]
  },
  {
   "cell_type": "code",
   "execution_count": 186,
   "metadata": {},
   "outputs": [],
   "source": [
    "## Potential vectoriser to be explored\n",
    "# import skipthoughts\n",
    " \n",
    "# class SkipThoughtsVectorizer(object):\n",
    "#     def __init__(self, **kwargs):\n",
    "#         self.model = skipthoughts.load_model()\n",
    "#         self.encoder = skipthoughts.Encoder(self.model)\n",
    " \n",
    "#     def fit_transform(self, raw_documents, y):\n",
    "#         return self.encoder.encode(raw_documents, verbose=False)\n",
    " \n",
    "#     def fit(self, raw_documents, y=None):\n",
    "#         self.fit_transform(raw_documents, y)\n",
    "#         return self\n",
    " \n",
    "#     def transform(self, raw_documents, copy=True):\n",
    "#         return self.fit_transform(raw_documents, None)"
   ]
  },
  {
   "cell_type": "code",
   "execution_count": 187,
   "metadata": {},
   "outputs": [],
   "source": [
    "from sklearn.feature_extraction.text import TfidfVectorizer\n",
    "vect = TfidfVectorizer()"
   ]
  },
  {
   "cell_type": "code",
   "execution_count": 188,
   "metadata": {},
   "outputs": [],
   "source": [
    "X_train_vect = vect.fit_transform(X_train)\n",
    "X_val_vect = vect.transform(X_val)"
   ]
  },
  {
   "cell_type": "markdown",
   "metadata": {},
   "source": [
    "## Selecting classifiers: "
   ]
  },
  {
   "cell_type": "code",
   "execution_count": 189,
   "metadata": {},
   "outputs": [],
   "source": [
    "from sklearn.metrics import classification_report, accuracy_score, confusion_matrix"
   ]
  },
  {
   "cell_type": "markdown",
   "metadata": {},
   "source": [
    "### Naive Bayes"
   ]
  },
  {
   "cell_type": "code",
   "execution_count": 190,
   "metadata": {},
   "outputs": [],
   "source": [
    "from sklearn.naive_bayes import MultinomialNB\n",
    "model1 = MultinomialNB()"
   ]
  },
  {
   "cell_type": "code",
   "execution_count": 191,
   "metadata": {},
   "outputs": [
    {
     "data": {
      "text/plain": [
       "MultinomialNB()"
      ]
     },
     "execution_count": 191,
     "metadata": {},
     "output_type": "execute_result"
    }
   ],
   "source": [
    "model1.fit(X_train_vect, y_train)"
   ]
  },
  {
   "cell_type": "code",
   "execution_count": 192,
   "metadata": {},
   "outputs": [],
   "source": [
    "y_predict1 = model1.predict(X_val_vect)"
   ]
  },
  {
   "cell_type": "code",
   "execution_count": 193,
   "metadata": {},
   "outputs": [
    {
     "name": "stdout",
     "output_type": "stream",
     "text": [
      "Accuracy score: 52.277542372881356%\n",
      "--------------------\n",
      "              precision    recall  f1-score   support\n",
      "\n",
      "          D1       0.73      0.10      0.18       191\n",
      "          D2       0.00      0.00      0.00       114\n",
      "          D3       0.91      0.12      0.22       234\n",
      "          D4       0.53      0.88      0.66       624\n",
      "          D5       0.00      0.00      0.00       155\n",
      "          D6       0.00      0.00      0.00         7\n",
      "          I0       0.96      0.11      0.20       377\n",
      "          N0       0.00      0.00      0.00       139\n",
      "          P1       0.00      0.00      0.00        85\n",
      "          P2       0.73      0.40      0.52       115\n",
      "          P3       0.62      0.66      0.64       507\n",
      "          P4       0.42      0.93      0.58       830\n",
      "          P5       0.50      0.01      0.02        79\n",
      "          P6       0.00      0.00      0.00        19\n",
      "          W0       0.92      0.60      0.72       300\n",
      "\n",
      "    accuracy                           0.52      3776\n",
      "   macro avg       0.42      0.25      0.25      3776\n",
      "weighted avg       0.56      0.52      0.44      3776\n",
      "\n"
     ]
    },
    {
     "name": "stderr",
     "output_type": "stream",
     "text": [
      "C:\\Users\\Jasmine.Ooi\\miniconda3\\lib\\site-packages\\sklearn\\metrics\\_classification.py:1221: UndefinedMetricWarning: Precision and F-score are ill-defined and being set to 0.0 in labels with no predicted samples. Use `zero_division` parameter to control this behavior.\n",
      "  _warn_prf(average, modifier, msg_start, len(result))\n"
     ]
    }
   ],
   "source": [
    "print('Accuracy score: {}%'.format(accuracy_score(y_val, y_predict1) * 100))\n",
    "print(20*'-')\n",
    "print(classification_report(y_val, y_predict1))"
   ]
  },
  {
   "cell_type": "code",
   "execution_count": 194,
   "metadata": {},
   "outputs": [
    {
     "name": "stdout",
     "output_type": "stream",
     "text": [
      "[[ 19   0   0 114   0   0   0   0   0   0   4  54   0   0   0]\n",
      " [  2   0   3  27   0   0   0   0   0   0   3  78   0   0   1]\n",
      " [  0   0  29  88   0   0   0   0   0   0  15 102   0   0   0]\n",
      " [  0   0   0 552   0   0   0   0   0   1  12  57   0   0   2]\n",
      " [  0   0   0  45   0   0   0   0   0   0  50  60   0   0   0]\n",
      " [  0   0   0   2   0   0   0   0   0   0   1   4   0   0   0]\n",
      " [  2   0   0  62   0   0  43   0   0   0  37 224   1   0   8]\n",
      " [  3   0   0  18   0   0   0   0   0  16   7  95   0   0   0]\n",
      " [  0   0   0  19   0   0   0   0   0   0  10  55   0   0   1]\n",
      " [  0   0   0  33   0   0   0   0   0  46   1  35   0   0   0]\n",
      " [  0   0   0  25   0   0   0   0   0   0 333 148   0   0   1]\n",
      " [  0   0   0  23   0   0   0   0   0   0  32 772   0   0   3]\n",
      " [  0   0   0  16   0   0   1   0   0   0  14  47   1   0   0]\n",
      " [  0   0   0   1   0   0   0   0   0   0   4  14   0   0   0]\n",
      " [  0   0   0  23   0   0   1   0   0   0  16  81   0   0 179]]\n"
     ]
    }
   ],
   "source": [
    "print(confusion_matrix(y_val, y_predict1))"
   ]
  },
  {
   "cell_type": "code",
   "execution_count": 197,
   "metadata": {},
   "outputs": [
    {
     "data": {
      "image/png": "[encoded data removed]",
      "text/plain": [
       "<Figure size 432x288 with 2 Axes>"
      ]
     },
     "metadata": {
      "needs_background": "light"
     },
     "output_type": "display_data"
    }
   ],
   "source": [
    "from sklearn.metrics import plot_confusion_matrix\n",
    "import matplotlib.pyplot as plt\n",
    "plot_confusion_matrix(model1, X_val_vect, y_val)  \n",
    "plt.show()"
   ]
  },
  {
   "cell_type": "markdown",
   "metadata": {},
   "source": [
    "### XGB Classifier"
   ]
  },
  {
   "cell_type": "code",
   "execution_count": 198,
   "metadata": {},
   "outputs": [],
   "source": [
    "from xgboost import XGBClassifier\n",
    "model3 = XGBClassifier()"
   ]
  },
  {
   "cell_type": "code",
   "execution_count": 199,
   "metadata": {},
   "outputs": [
    {
     "data": {
      "text/plain": [
       "XGBClassifier(base_score=0.5, booster='gbtree', colsample_bylevel=1,\n",
       "              colsample_bynode=1, colsample_bytree=1, gamma=0, gpu_id=-1,\n",
       "              importance_type='gain', interaction_constraints='',\n",
       "              learning_rate=0.300000012, max_delta_step=0, max_depth=6,\n",
       "              min_child_weight=1, missing=nan, monotone_constraints='()',\n",
       "              n_estimators=100, n_jobs=0, num_parallel_tree=1,\n",
       "              objective='multi:softprob', random_state=0, reg_alpha=0,\n",
       "              reg_lambda=1, scale_pos_weight=None, subsample=1,\n",
       "              tree_method='exact', validate_parameters=1, verbosity=None)"
      ]
     },
     "execution_count": 199,
     "metadata": {},
     "output_type": "execute_result"
    }
   ],
   "source": [
    "model3.fit(X_train_vect, y_train)"
   ]
  },
  {
   "cell_type": "code",
   "execution_count": 200,
   "metadata": {},
   "outputs": [],
   "source": [
    "y_predict3 = model3.predict(X_val_vect)"
   ]
  },
  {
   "cell_type": "code",
   "execution_count": 201,
   "metadata": {},
   "outputs": [
    {
     "name": "stdout",
     "output_type": "stream",
     "text": [
      "Accuracy score: 60.99046610169492%\n",
      "--------------------\n",
      "              precision    recall  f1-score   support\n",
      "\n",
      "          D1       0.58      0.60      0.59       191\n",
      "          D2       0.53      0.39      0.45       114\n",
      "          D3       0.55      0.45      0.50       234\n",
      "          D4       0.72      0.75      0.73       624\n",
      "          D5       0.46      0.48      0.47       155\n",
      "          D6       0.50      0.43      0.46         7\n",
      "          I0       0.43      0.38      0.40       377\n",
      "          N0       0.33      0.14      0.20       139\n",
      "          P1       0.37      0.24      0.29        85\n",
      "          P2       0.70      0.69      0.69       115\n",
      "          P3       0.60      0.70      0.65       507\n",
      "          P4       0.62      0.74      0.67       830\n",
      "          P5       0.41      0.43      0.42        79\n",
      "          P6       0.40      0.11      0.17        19\n",
      "          W0       0.89      0.75      0.81       300\n",
      "\n",
      "    accuracy                           0.61      3776\n",
      "   macro avg       0.54      0.49      0.50      3776\n",
      "weighted avg       0.60      0.61      0.60      3776\n",
      "\n"
     ]
    }
   ],
   "source": [
    "print('Accuracy score: {}%'.format(accuracy_score(y_val, y_predict3) * 100))\n",
    "print(20*'-')\n",
    "print(classification_report(y_val, y_predict3))"
   ]
  },
  {
   "cell_type": "code",
   "execution_count": 203,
   "metadata": {},
   "outputs": [
    {
     "name": "stdout",
     "output_type": "stream",
     "text": [
      "[[115   5   4  33   5   0   8   1   1   0   5   7   5   1   1]\n",
      " [  5  45  14   6   0   0   3   8   1   2  10  19   1   0   0]\n",
      " [  4   2 106  30  13   0  13   2   4   0  22  36   1   1   0]\n",
      " [ 25   6  16 468  18   2  24   1   5   3  13  34   4   0   5]\n",
      " [  4   2   9  12  74   0   8   1   0   0  25  17   2   0   1]\n",
      " [  0   0   0   2   0   3   1   0   0   0   0   0   0   0   1]\n",
      " [  9   8   3  29  14   0 142   4   7   2  35 102  11   0  11]\n",
      " [  7   1   2   5   2   0  14  20   2  23  11  47   4   0   1]\n",
      " [  3   1   7  15   4   0   9   1  20   0  11  12   2   0   0]\n",
      " [  0   1   1   9   0   1   5  11   0  79   0   6   0   0   2]\n",
      " [  6   4   7  13  18   0  17   1   7   2 357  63  10   0   2]\n",
      " [  7   8  23  17  11   0  49   7   5   0  82 613   4   0   4]\n",
      " [  6   1   0   5   0   0   7   1   1   2   6  15  34   1   0]\n",
      " [  6   0   0   1   0   0   0   0   0   0   4   2   4   2   0]\n",
      " [  1   1   0   7   3   0  32   3   1   0  13  14   0   0 225]]\n"
     ]
    }
   ],
   "source": [
    "print(confusion_matrix(y_val, y_predict3))"
   ]
  },
  {
   "cell_type": "code",
   "execution_count": 202,
   "metadata": {},
   "outputs": [
    {
     "data": {
      "image/png": "[encoded data removed]",
      "text/plain": [
       "<Figure size 432x288 with 2 Axes>"
      ]
     },
     "metadata": {
      "needs_background": "light"
     },
     "output_type": "display_data"
    }
   ],
   "source": [
    "plot_confusion_matrix(model3, X_val_vect, y_val)  \n",
    "plt.show()"
   ]
  },
  {
   "cell_type": "markdown",
   "metadata": {},
   "source": [
    "### Random forest classifier"
   ]
  },
  {
   "cell_type": "code",
   "execution_count": 204,
   "metadata": {},
   "outputs": [],
   "source": [
    "from sklearn.ensemble import RandomForestClassifier\n",
    "model4 = RandomForestClassifier()"
   ]
  },
  {
   "cell_type": "code",
   "execution_count": 205,
   "metadata": {},
   "outputs": [
    {
     "data": {
      "text/plain": [
       "RandomForestClassifier()"
      ]
     },
     "execution_count": 205,
     "metadata": {},
     "output_type": "execute_result"
    }
   ],
   "source": [
    "model4.fit(X_train_vect, y_train)"
   ]
  },
  {
   "cell_type": "code",
   "execution_count": 206,
   "metadata": {},
   "outputs": [],
   "source": [
    "y_predict4 = model4.predict(X_val_vect)"
   ]
  },
  {
   "cell_type": "code",
   "execution_count": 207,
   "metadata": {},
   "outputs": [
    {
     "name": "stdout",
     "output_type": "stream",
     "text": [
      "Accuracy score: 60.54025423728814%\n",
      "--------------------\n",
      "              precision    recall  f1-score   support\n",
      "\n",
      "          D1       0.58      0.49      0.53       191\n",
      "          D2       0.56      0.31      0.40       114\n",
      "          D3       0.69      0.35      0.46       234\n",
      "          D4       0.62      0.81      0.70       624\n",
      "          D5       0.56      0.43      0.48       155\n",
      "          D6       0.50      0.29      0.36         7\n",
      "          I0       0.48      0.33      0.39       377\n",
      "          N0       0.34      0.11      0.16       139\n",
      "          P1       0.55      0.14      0.22        85\n",
      "          P2       0.63      0.71      0.67       115\n",
      "          P3       0.58      0.71      0.64       507\n",
      "          P4       0.59      0.79      0.67       830\n",
      "          P5       0.58      0.42      0.49        79\n",
      "          P6       0.00      0.00      0.00        19\n",
      "          W0       0.85      0.74      0.79       300\n",
      "\n",
      "    accuracy                           0.61      3776\n",
      "   macro avg       0.54      0.44      0.47      3776\n",
      "weighted avg       0.60      0.61      0.58      3776\n",
      "\n"
     ]
    }
   ],
   "source": [
    "print('Accuracy score: {}%'.format(accuracy_score(y_val, y_predict4) * 100))\n",
    "print(20*'-')\n",
    "print(classification_report(y_val, y_predict4))"
   ]
  },
  {
   "cell_type": "code",
   "execution_count": 208,
   "metadata": {},
   "outputs": [
    {
     "name": "stdout",
     "output_type": "stream",
     "text": [
      "[[ 94   2   2  59   1   0   4   2   1   0   5  18   0   1   2]\n",
      " [  5  35  10  12   0   0   4   8   0   0   9  29   0   0   2]\n",
      " [  3   0  81  54  10   0   6   0   1   0  29  49   0   0   1]\n",
      " [ 15   7  10 505  12   1  23   1   0   4  15  26   2   0   3]\n",
      " [  2   2   4  27  66   0   6   0   0   2  33  12   0   0   1]\n",
      " [  0   0   0   4   0   2   1   0   0   0   0   0   0   0   0]\n",
      " [ 10   6   4  42   9   0 124   4   2   2  39 111   7   0  17]\n",
      " [ 11   1   0   5   1   1   9  15   2  28   8  57   1   0   0]\n",
      " [  3   0   1  18   1   0   8   0  12   2  17  20   2   0   1]\n",
      " [  0   1   0   8   0   0   8   6   0  82   1   7   0   0   2]\n",
      " [  4   1   1  28   7   0   9   1   1   3 362  81   7   0   2]\n",
      " [  8   6   4  24   8   0  32   3   1   3  80 653   0   0   8]\n",
      " [  3   1   0  11   0   0   3   1   1   3   5  18  33   0   0]\n",
      " [  4   0   0   1   0   0   0   0   0   1   4   4   5   0   0]\n",
      " [  1   0   0  11   3   0  24   3   1   0  12  23   0   0 222]]\n"
     ]
    }
   ],
   "source": [
    "print(confusion_matrix(y_val, y_predict4))"
   ]
  },
  {
   "cell_type": "code",
   "execution_count": 209,
   "metadata": {},
   "outputs": [
    {
     "data": {
      "image/png": "[encoded data removed]",
      "text/plain": [
       "<Figure size 432x288 with 2 Axes>"
      ]
     },
     "metadata": {
      "needs_background": "light"
     },
     "output_type": "display_data"
    }
   ],
   "source": [
    "plot_confusion_matrix(model4, X_val_vect, y_val) \n",
    "plt.show()"
   ]
  }
 ],
 "metadata": {
  "kernelspec": {
   "display_name": "Python 3",
   "language": "python",
   "name": "python3"
  },
  "language_info": {
   "codemirror_mode": {
    "name": "ipython",
    "version": 3
   },
   "file_extension": ".py",
   "mimetype": "text/x-python",
   "name": "python",
   "nbconvert_exporter": "python",
   "pygments_lexer": "ipython3",
   "version": "3.7.6"
  }
 },
 "nbformat": 4,
 "nbformat_minor": 4
}
